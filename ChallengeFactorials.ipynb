{
 "cells": [
  {
   "cell_type": "markdown",
   "metadata": {},
   "source": [
    "# Factorial Challenge\n",
    "\n",
    "<div class=\"alert alert-block alert-info\">\n",
    "The factorial function gives the number of possible arrangements of the set of item of length \"n\"\n",
    "<b>For example , there are 4! (\"four factorial\") or 24 ways to arrange four items, which can be calculated as 4 * 3 * 2 * 1</b>\n",
    "</div>\n",
    "\n",
    "***\n",
    "\n",
    "<div class=\"alert alert-block alert-warning\">\n",
    "<b>Example:</b> 5! = 5*4*3*2*1 = 120\n",
    "<br> 6! = 6 * 5 * 4* 3* 2 * 1 = 720 </br>\n",
    "etc\n",
    "</div>\n",
    "\n",
    "***\n",
    "\n",
    "<div class=\"alert alert-block alert-success\">\n",
    "in a set of 0 items (an empty set) there is only one way to arrange the items, therefore, 0! = 1\n",
    "\n",
    "For the purpose of this exercise, factorials are only defined for postive intergres (including 0)\n",
    "</div>"
   ]
  },
  {
   "cell_type": "code",
   "execution_count": 47,
   "metadata": {},
   "outputs": [],
   "source": [
    "def factorial(num):\n",
    "    n = 1\n",
    "    if(type(num)==float or type(num) == str):\n",
    "        return None\n",
    "    if(num==0):\n",
    "        return 1\n",
    "    elif(num < 0):\n",
    "        return None\n",
    "    else:\n",
    "        for i in range(1,num+1):\n",
    "            n = i * n\n",
    "        return n\n",
    "        "
   ]
  },
  {
   "cell_type": "code",
   "execution_count": 59,
   "metadata": {},
   "outputs": [
    {
     "data": {
      "text/plain": [
       "120"
      ]
     },
     "execution_count": 59,
     "metadata": {},
     "output_type": "execute_result"
    }
   ],
   "source": [
    "factorial(5)"
   ]
  },
  {
   "cell_type": "code",
   "execution_count": 58,
   "metadata": {},
   "outputs": [
    {
     "data": {
      "text/plain": [
       "720"
      ]
     },
     "execution_count": 58,
     "metadata": {},
     "output_type": "execute_result"
    }
   ],
   "source": [
    "factorial(6)"
   ]
  },
  {
   "cell_type": "code",
   "execution_count": 50,
   "metadata": {},
   "outputs": [
    {
     "data": {
      "text/plain": [
       "1"
      ]
     },
     "execution_count": 50,
     "metadata": {},
     "output_type": "execute_result"
    }
   ],
   "source": [
    "factorial(0)"
   ]
  },
  {
   "cell_type": "code",
   "execution_count": 51,
   "metadata": {},
   "outputs": [],
   "source": [
    "factorial(-2)"
   ]
  },
  {
   "cell_type": "code",
   "execution_count": 52,
   "metadata": {},
   "outputs": [],
   "source": [
    "factorial(1.2)"
   ]
  },
  {
   "cell_type": "code",
   "execution_count": 53,
   "metadata": {},
   "outputs": [],
   "source": [
    "factorial('spam spam spam spam spam')"
   ]
  },
  {
   "cell_type": "markdown",
   "metadata": {},
   "source": [
    "***\n",
    "\n",
    "# Using While Loop\n",
    "\n",
    "***"
   ]
  },
  {
   "cell_type": "code",
   "execution_count": 60,
   "metadata": {},
   "outputs": [],
   "source": [
    "def factorial(num):\n",
    "    n = 1\n",
    "    if(type(num) is not int):\n",
    "        return None\n",
    "    if(num==0):\n",
    "        return 1\n",
    "    if(num < 0):\n",
    "        return None\n",
    "    i = 0\n",
    "    while i < num:\n",
    "        i = i + 1\n",
    "        n =  n * i\n",
    "    return n"
   ]
  },
  {
   "cell_type": "markdown",
   "metadata": {},
   "source": [
    "*** \n",
    "# using recursion\n",
    "\n",
    "***"
   ]
  },
  {
   "cell_type": "code",
   "execution_count": 57,
   "metadata": {},
   "outputs": [],
   "source": [
    "def factorial(num):\n",
    "    if(type(num) is not  int):\n",
    "        return None\n",
    "    if(num==0):\n",
    "        return 1\n",
    "    if(num < 0):\n",
    "        return None\n",
    "    \n",
    "    return num * factorial(num-1)\n",
    "    "
   ]
  }
 ],
 "metadata": {
  "kernelspec": {
   "display_name": "tensorflow",
   "language": "python",
   "name": "python3"
  },
  "language_info": {
   "codemirror_mode": {
    "name": "ipython",
    "version": 3
   },
   "file_extension": ".py",
   "mimetype": "text/x-python",
   "name": "python",
   "nbconvert_exporter": "python",
   "pygments_lexer": "ipython3",
   "version": "3.9.12"
  }
 },
 "nbformat": 4,
 "nbformat_minor": 2
}
