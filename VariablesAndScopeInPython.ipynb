{
 "cells": [
  {
   "cell_type": "markdown",
   "metadata": {},
   "source": [
    "## Function Scope"
   ]
  },
  {
   "cell_type": "code",
   "execution_count": 1,
   "metadata": {},
   "outputs": [
    {
     "name": "stdout",
     "output_type": "stream",
     "text": [
      "(1, 2)\n",
      "{'operation': 'sum'}\n"
     ]
    }
   ],
   "source": [
    "def performOperation(*args, **kwargs):\n",
    "    print(args)\n",
    "    print(kwargs)\n",
    "    \n",
    "performOperation(1,2, operation = 'sum')"
   ]
  },
  {
   "cell_type": "markdown",
   "metadata": {},
   "source": [
    "## Locals()"
   ]
  },
  {
   "cell_type": "code",
   "execution_count": 2,
   "metadata": {},
   "outputs": [
    {
     "name": "stdout",
     "output_type": "stream",
     "text": [
      "{'num1': 1, 'num2': 2, 'operation': 'multiply'}\n"
     ]
    }
   ],
   "source": [
    "def performOperation(num1, num2, operation = 'sum'):\n",
    "    print(locals())\n",
    "    \n",
    "    \n",
    "performOperation(1,2, operation = 'multiply')"
   ]
  },
  {
   "cell_type": "markdown",
   "metadata": {},
   "source": [
    "## Globals()"
   ]
  },
  {
   "cell_type": "code",
   "execution_count": 3,
   "metadata": {},
   "outputs": [
    {
     "data": {
      "text/plain": [
       "{'__name__': '__main__',\n",
       " '__doc__': 'Automatically created module for IPython interactive environment',\n",
       " '__package__': None,\n",
       " '__loader__': None,\n",
       " '__spec__': None,\n",
       " '__builtin__': <module 'builtins' (built-in)>,\n",
       " '__builtins__': <module 'builtins' (built-in)>,\n",
       " '_ih': ['',\n",
       "  \"def performOperation(*args, **kwargs):\\n    print(args)\\n    print(kwargs)\\n    \\nperformOperation(1,2, operation = 'sum')\",\n",
       "  \"def performOperation(num1, num2, operation = 'sum'):\\n    print(locals())\\n    \\n    \\nperformOperation(1,2, operation = 'multiply')\",\n",
       "  'globals()'],\n",
       " '_oh': {},\n",
       " '_dh': [WindowsPath('d:/GITHUB/Python/Python-Essential-Traning')],\n",
       " 'In': ['',\n",
       "  \"def performOperation(*args, **kwargs):\\n    print(args)\\n    print(kwargs)\\n    \\nperformOperation(1,2, operation = 'sum')\",\n",
       "  \"def performOperation(num1, num2, operation = 'sum'):\\n    print(locals())\\n    \\n    \\nperformOperation(1,2, operation = 'multiply')\",\n",
       "  'globals()'],\n",
       " 'Out': {},\n",
       " 'get_ipython': <bound method InteractiveShell.get_ipython of <ipykernel.zmqshell.ZMQInteractiveShell object at 0x000001FA6D8769A0>>,\n",
       " 'exit': <IPython.core.autocall.ZMQExitAutocall at 0x1fa6d823970>,\n",
       " 'quit': <IPython.core.autocall.ZMQExitAutocall at 0x1fa6d823970>,\n",
       " '_': '',\n",
       " '__': '',\n",
       " '___': '',\n",
       " '__vsc_ipynb_file__': 'd:\\\\GITHUB\\\\Python\\\\Python-Essential-Traning\\\\VariablesAndScopeInPython.ipynb',\n",
       " '_i': \"def performOperation(num1, num2, operation = 'sum'):\\n    print(locals())\\n    \\n    \\nperformOperation(1,2, operation = 'multiply')\",\n",
       " '_ii': \"def performOperation(*args, **kwargs):\\n    print(args)\\n    print(kwargs)\\n    \\nperformOperation(1,2, operation = 'sum')\",\n",
       " '_iii': '',\n",
       " '_i1': \"def performOperation(*args, **kwargs):\\n    print(args)\\n    print(kwargs)\\n    \\nperformOperation(1,2, operation = 'sum')\",\n",
       " 'performOperation': <function __main__.performOperation(num1, num2, operation='sum')>,\n",
       " '_i2': \"def performOperation(num1, num2, operation = 'sum'):\\n    print(locals())\\n    \\n    \\nperformOperation(1,2, operation = 'multiply')\",\n",
       " '_i3': 'globals()'}"
      ]
     },
     "execution_count": 3,
     "metadata": {},
     "output_type": "execute_result"
    }
   ],
   "source": [
    "globals()"
   ]
  },
  {
   "cell_type": "markdown",
   "metadata": {},
   "source": [
    "## Global and local scope"
   ]
  },
  {
   "cell_type": "code",
   "execution_count": 5,
   "metadata": {},
   "outputs": [
    {
     "name": "stdout",
     "output_type": "stream",
     "text": [
      "some global data\n",
      "{'varA': 1, 'varB': 2}\n",
      "some global data\n",
      "{'varC': 3, 'varB': 4}\n"
     ]
    }
   ],
   "source": [
    "message = 'some global data'\n",
    "def function1 (varA, varB):\n",
    "    print(message)\n",
    "    print(locals())\n",
    "\n",
    "def function2 (varC, varB):\n",
    "    print(message)\n",
    "    print(locals())\n",
    "\n",
    "function1(1,2)\n",
    "function2(3,4)"
   ]
  },
  {
   "cell_type": "code",
   "execution_count": 6,
   "metadata": {},
   "outputs": [
    {
     "name": "stdout",
     "output_type": "stream",
     "text": [
      "1\n",
      "some global data\n",
      "{'varA': 1, 'varB': 2}\n",
      "2\n",
      "some global data\n",
      "{'varC': 3, 'varB': 4}\n"
     ]
    }
   ],
   "source": [
    "message = 'some global data'\n",
    "varA = 2\n",
    "def function1 (varA, varB):\n",
    "    print(varA)\n",
    "    print(message)\n",
    "    print(locals())\n",
    "\n",
    "def function2 (varC, varB):\n",
    "    print(varA)\n",
    "    print(message)\n",
    "    print(locals())\n",
    "\n",
    "function1(1,2)\n",
    "function2(3,4)"
   ]
  },
  {
   "cell_type": "code",
   "execution_count": 7,
   "metadata": {},
   "outputs": [
    {
     "name": "stdout",
     "output_type": "stream",
     "text": [
      "1\n",
      "inner_function local scope : {'varA': 123, 'varB': 456}\n"
     ]
    }
   ],
   "source": [
    "def function1 (varA, varB):\n",
    "    message = 'some local data'\n",
    "    print(varA)\n",
    "    def inner_function(varA, varB):\n",
    "        print(f'inner_function local scope : {locals()}')\n",
    "    inner_function (123, 456)\n",
    "\n",
    "function1(1,2)"
   ]
  },
  {
   "cell_type": "code",
   "execution_count": null,
   "metadata": {},
   "outputs": [],
   "source": []
  }
 ],
 "metadata": {
  "kernelspec": {
   "display_name": "tensorflow",
   "language": "python",
   "name": "python3"
  },
  "language_info": {
   "codemirror_mode": {
    "name": "ipython",
    "version": 3
   },
   "file_extension": ".py",
   "mimetype": "text/x-python",
   "name": "python",
   "nbconvert_exporter": "python",
   "pygments_lexer": "ipython3",
   "version": "3.9.12"
  }
 },
 "nbformat": 4,
 "nbformat_minor": 2
}
