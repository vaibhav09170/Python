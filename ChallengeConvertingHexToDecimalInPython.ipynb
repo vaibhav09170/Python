{
 "cells": [
  {
   "cell_type": "markdown",
   "metadata": {},
   "source": [
    "### Converting Hexadecimal to Decimal\n",
    "\n",
    "<p> Hexadecimal or base 16 uses all of the number 0 -9, Plus a few other to signify Higher numbers:\n",
    "\n",
    "A= 10 B=11, C=12, D= 13, E= 14, F= 15\n",
    "\n",
    "Therefore, the number \"D\" in hexadecimal would be 13 in decimal\n",
    "\n",
    "The number 1A in hexadecimal would be 26 in decimal. just like we have the \"tens\" place in base 10, hexadecimal has the \"sixteen\" place. So 1A wouble be 16 + 10 or 26\n",
    "\n",
    "And just like decimal has the hundreds place (because 10 * 10 is 100), hexadecimal has the '256s' place (because 16 * 16 is 256) so 'ABC' in hexadecimal is (256 *10) + (16 * 11) + (1 * 12) or 2748 <p>"
   ]
  },
  {
   "cell_type": "code",
   "execution_count": 55,
   "metadata": {},
   "outputs": [],
   "source": [
    "hexNumber = {\n",
    "    '0':0,'1':1,'2':2,'3':3,'4':4,'5':5, '6':6,'7':7,'8': 8, '9':9,\n",
    "    'A':10,'B':11,'C':12,'D':13,'E':14,'F':15\n",
    "}\n",
    "\n",
    "#conberts a string hexadecimal number into an integer decimal\n",
    "#if hexNum is not a valid hexadecimal number, return None\n",
    "\n",
    "\n",
    "def hexToDec(hexNum):\n",
    "    for char in hexNum:\n",
    "        if char not in hexNumber:\n",
    "            return None\n",
    "    if len(hexNum) == 1:\n",
    "        return hexNumber[hexNum[0]]\n",
    "    if len(hexNum) == 2:\n",
    "        return hexNumber[hexNum[0]] * 16 + hexNumber[hexNum[1]]\n",
    "    if len(hexNum) == 3:\n",
    "        return hexNumber[hexNum[0]] * 256 + hexNumber[hexNum[1]] * 16 + hexNumber[hexNum[2]]"
   ]
  },
  {
   "cell_type": "code",
   "execution_count": 56,
   "metadata": {},
   "outputs": [
    {
     "data": {
      "text/plain": [
       "10"
      ]
     },
     "execution_count": 56,
     "metadata": {},
     "output_type": "execute_result"
    }
   ],
   "source": [
    "hexToDec('A')"
   ]
  },
  {
   "cell_type": "code",
   "execution_count": 57,
   "metadata": {},
   "outputs": [
    {
     "data": {
      "text/plain": [
       "0"
      ]
     },
     "execution_count": 57,
     "metadata": {},
     "output_type": "execute_result"
    }
   ],
   "source": [
    "hexToDec('0')"
   ]
  },
  {
   "cell_type": "code",
   "execution_count": 58,
   "metadata": {},
   "outputs": [
    {
     "data": {
      "text/plain": [
       "27"
      ]
     },
     "execution_count": 58,
     "metadata": {},
     "output_type": "execute_result"
    }
   ],
   "source": [
    "hexToDec('1B')"
   ]
  },
  {
   "cell_type": "code",
   "execution_count": 59,
   "metadata": {},
   "outputs": [
    {
     "data": {
      "text/plain": [
       "960"
      ]
     },
     "execution_count": 59,
     "metadata": {},
     "output_type": "execute_result"
    }
   ],
   "source": [
    "hexToDec('3C0')"
   ]
  },
  {
   "cell_type": "code",
   "execution_count": 60,
   "metadata": {},
   "outputs": [],
   "source": [
    "hexToDec('A6G')"
   ]
  },
  {
   "cell_type": "code",
   "execution_count": 61,
   "metadata": {},
   "outputs": [],
   "source": [
    "hexToDec('ZZTOP')"
   ]
  },
  {
   "cell_type": "markdown",
   "metadata": {},
   "source": [
    "### addtional soulation for to handle all the string length"
   ]
  },
  {
   "cell_type": "code",
   "execution_count": 62,
   "metadata": {},
   "outputs": [],
   "source": [
    "def hexToDec(hexNum):\n",
    "    for char in hexNum:\n",
    "        if char not in hexNumber:\n",
    "            return None\n",
    "        \n",
    "    exponent = 0\n",
    "    decimalValue = 0\n",
    "    \n",
    "    for char in hexNum[::-1]:\n",
    "        decimalValue = decimalValue + hexNumber[char] * (16 ** exponent)\n",
    "        exponent = exponent + 1\n",
    "    return decimalValue"
   ]
  },
  {
   "cell_type": "code",
   "execution_count": 63,
   "metadata": {},
   "outputs": [
    {
     "data": {
      "text/plain": [
       "960"
      ]
     },
     "execution_count": 63,
     "metadata": {},
     "output_type": "execute_result"
    }
   ],
   "source": [
    "hexToDec('3C0')"
   ]
  },
  {
   "cell_type": "code",
   "execution_count": 64,
   "metadata": {},
   "outputs": [
    {
     "data": {
      "text/plain": [
       "3932160"
      ]
     },
     "execution_count": 64,
     "metadata": {},
     "output_type": "execute_result"
    }
   ],
   "source": [
    "hexToDec('3C0000')"
   ]
  },
  {
   "cell_type": "code",
   "execution_count": null,
   "metadata": {},
   "outputs": [],
   "source": []
  }
 ],
 "metadata": {
  "kernelspec": {
   "display_name": "tensorflow",
   "language": "python",
   "name": "python3"
  },
  "language_info": {
   "codemirror_mode": {
    "name": "ipython",
    "version": 3
   },
   "file_extension": ".py",
   "mimetype": "text/x-python",
   "name": "python",
   "nbconvert_exporter": "python",
   "pygments_lexer": "ipython3",
   "version": "3.9.12"
  }
 },
 "nbformat": 4,
 "nbformat_minor": 2
}
